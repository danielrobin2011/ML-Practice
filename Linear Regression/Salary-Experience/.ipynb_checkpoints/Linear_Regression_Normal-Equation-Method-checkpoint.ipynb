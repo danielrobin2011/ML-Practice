{
 "cells": [
  {
   "cell_type": "code",
   "execution_count": 80,
   "metadata": {},
   "outputs": [],
   "source": [
    "import numpy as np;\n",
    "import pandas as pd\n",
    "import matplotlib.pyplot as plt"
   ]
  },
  {
   "cell_type": "code",
   "execution_count": 81,
   "metadata": {},
   "outputs": [],
   "source": [
    "#import dataset\n",
    "\n",
    "dataset = pd.read_csv(\"Salary_Data.csv\");"
   ]
  },
  {
   "cell_type": "code",
   "execution_count": 82,
   "metadata": {},
   "outputs": [],
   "source": [
    "#divide the dataset into X and Y\n",
    "    \n",
    "theta = [ 1.0, 1.0 ]\n",
    "\n",
    "X = dataset.iloc[:,0].values\n",
    "Y = dataset.iloc[:,1].values"
   ]
  },
  {
   "cell_type": "code",
   "execution_count": 83,
   "metadata": {},
   "outputs": [
    {
     "data": {
      "text/plain": [
       "[<matplotlib.lines.Line2D at 0xdabfc50>]"
      ]
     },
     "execution_count": 83,
     "metadata": {},
     "output_type": "execute_result"
    },
    {
     "data": {
      "image/png": "[encoded data removed]",
      "text/plain": [
       "<Figure size 432x288 with 1 Axes>"
      ]
     },
     "metadata": {
      "needs_background": "light"
     },
     "output_type": "display_data"
    }
   ],
   "source": [
    "#normalizing the dataset\n",
    "\n",
    "X = (X - np.mean(X))/(np.max(X) - np.min(X))\n",
    "Y = (Y - np.mean(Y))/(np.max(Y) - np.min(Y))\n",
    "\n",
    "plt.plot(X,Y,'ro')\n",
    "\n"
   ]
  },
  {
   "cell_type": "code",
   "execution_count": 84,
   "metadata": {},
   "outputs": [
    {
     "name": "stdout",
     "output_type": "stream",
     "text": [
      "[-0.44822695 -0.42695035 -0.40567376 -0.35248227 -0.33120567 -0.25673759\n",
      " -0.24609929 -0.2248227  -0.2248227  -0.17163121 -0.15035461 -0.13971631\n",
      " -0.13971631 -0.12907801 -0.08652482 -0.04397163 -0.02269504 -0.00141844\n",
      "  0.06241135  0.07304965  0.15815603  0.19007092  0.2751773   0.3070922\n",
      "  0.36028369  0.39219858  0.44539007  0.45602837  0.53049645  0.55177305]\n"
     ]
    }
   ],
   "source": [
    "print(np.transpose(X))"
   ]
  },
  {
   "cell_type": "code",
   "execution_count": 85,
   "metadata": {},
   "outputs": [
    {
     "name": "stdout",
     "output_type": "stream",
     "text": [
      "[[-0.44822695]\n",
      " [-0.42695035]\n",
      " [-0.40567376]\n",
      " [-0.35248227]\n",
      " [-0.33120567]\n",
      " [-0.25673759]\n",
      " [-0.24609929]\n",
      " [-0.2248227 ]\n",
      " [-0.2248227 ]\n",
      " [-0.17163121]\n",
      " [-0.15035461]\n",
      " [-0.13971631]\n",
      " [-0.13971631]\n",
      " [-0.12907801]\n",
      " [-0.08652482]\n",
      " [-0.04397163]\n",
      " [-0.02269504]\n",
      " [-0.00141844]\n",
      " [ 0.06241135]\n",
      " [ 0.07304965]\n",
      " [ 0.15815603]\n",
      " [ 0.19007092]\n",
      " [ 0.2751773 ]\n",
      " [ 0.3070922 ]\n",
      " [ 0.36028369]\n",
      " [ 0.39219858]\n",
      " [ 0.44539007]\n",
      " [ 0.45602837]\n",
      " [ 0.53049645]\n",
      " [ 0.55177305]]\n",
      "[[-0.44822695 -0.42695035 -0.40567376 -0.35248227 -0.33120567 -0.25673759\n",
      "  -0.24609929 -0.2248227  -0.2248227  -0.17163121 -0.15035461 -0.13971631\n",
      "  -0.13971631 -0.12907801 -0.08652482 -0.04397163 -0.02269504 -0.00141844\n",
      "   0.06241135  0.07304965  0.15815603  0.19007092  0.2751773   0.3070922\n",
      "   0.36028369  0.39219858  0.44539007  0.45602837  0.53049645  0.55177305]]\n"
     ]
    }
   ],
   "source": [
    "X = np.reshape(X,(30, 1));\n",
    "print(X)\n",
    "Xt = np.transpose(X)\n",
    "print(Xt)"
   ]
  },
  {
   "cell_type": "code",
   "execution_count": 86,
   "metadata": {},
   "outputs": [
    {
     "name": "stdout",
     "output_type": "stream",
     "text": [
      "[[ 1.         -0.43302622]\n",
      " [ 1.         -0.3519726 ]\n",
      " [ 1.         -0.45206709]\n",
      " [ 1.         -0.38362863]\n",
      " [ 1.         -0.42655327]\n",
      " [ 1.         -0.22869124]\n",
      " [ 1.         -0.1872549 ]\n",
      " [ 1.         -0.2546421 ]\n",
      " [ 1.         -0.13652256]\n",
      " [ 1.         -0.2222301 ]\n",
      " [ 1.         -0.15101583]\n",
      " [ 1.         -0.23870777]\n",
      " [ 1.         -0.22497047]\n",
      " [ 1.         -0.22350579]\n",
      " [ 1.         -0.17590361]\n",
      " [ 1.         -0.09526341]\n",
      " [ 1.         -0.11781243]\n",
      " [ 1.          0.08368769]\n",
      " [ 1.          0.06331207]\n",
      " [ 1.          0.21187101]\n",
      " [ 1.          0.18586109]\n",
      " [ 1.          0.26305221]\n",
      " [ 1.          0.29883062]\n",
      " [ 1.          0.44659816]\n",
      " [ 1.          0.39484999]\n",
      " [ 1.          0.34938578]\n",
      " [ 1.          0.4838885 ]\n",
      " [ 1.          0.43269549]\n",
      " [ 1.          0.54793291]\n",
      " [ 1.          0.5418025 ]]\n"
     ]
    }
   ],
   "source": [
    "Ypad = np.c_[ np.ones(30), Y];\n",
    "print(Ypad) "
   ]
  },
  {
   "cell_type": "code",
   "execution_count": 87,
   "metadata": {},
   "outputs": [
    {
     "name": "stdout",
     "output_type": "stream",
     "text": [
      "[[2.64321714]]\n"
     ]
    }
   ],
   "source": [
    "XtX = np.dot(Xt, X)\n",
    "\n",
    "print(XtX)\n"
   ]
  },
  {
   "cell_type": "code",
   "execution_count": 88,
   "metadata": {},
   "outputs": [
    {
     "data": {
      "text/plain": [
       "array([[0.37832684]])"
      ]
     },
     "execution_count": 88,
     "metadata": {},
     "output_type": "execute_result"
    }
   ],
   "source": [
    "np.linalg.inv(XtX)"
   ]
  },
  {
   "cell_type": "code",
   "execution_count": 89,
   "metadata": {},
   "outputs": [
    {
     "name": "stdout",
     "output_type": "stream",
     "text": [
      "[[-5.27355937e-16  1.04925166e+00]]\n"
     ]
    }
   ],
   "source": [
    "theta = np.dot(np.dot(np.linalg.inv(XtX), Xt), Ypad)\n",
    "print(theta)"
   ]
  },
  {
   "cell_type": "code",
   "execution_count": 90,
   "metadata": {},
   "outputs": [
    {
     "data": {
      "image/png": "[encoded data removed]",
      "text/plain": [
       "<Figure size 432x288 with 1 Axes>"
      ]
     },
     "metadata": {
      "needs_background": "light"
     },
     "output_type": "display_data"
    }
   ],
   "source": [
    "x = np.linspace(-0.5, 0.75, 1000)\n",
    "y = -5.27355937e-16 + (x*1.04925166e+00)\n",
    "\n",
    "plt.plot(x,y)\n",
    "plt.plot(X,Y,'ro')\n",
    "plt.show()"
   ]
  },
  {
   "cell_type": "code",
   "execution_count": null,
   "metadata": {},
   "outputs": [],
   "source": []
  }
 ],
 "metadata": {
  "kernelspec": {
   "display_name": "Python 3",
   "language": "python",
   "name": "python3"
  },
  "language_info": {
   "codemirror_mode": {
    "name": "ipython",
    "version": 3
   },
   "file_extension": ".py",
   "mimetype": "text/x-python",
   "name": "python",
   "nbconvert_exporter": "python",
   "pygments_lexer": "ipython3",
   "version": "3.6.4"
  }
 },
 "nbformat": 4,
 "nbformat_minor": 2
}
