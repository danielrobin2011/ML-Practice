{
 "cells": [
  {
   "cell_type": "code",
   "execution_count": 59,
   "metadata": {},
   "outputs": [],
   "source": [
    "import numpy as np;\n",
    "import pandas as pd\n",
    "import matplotlib.pyplot as plt"
   ]
  },
  {
   "cell_type": "code",
   "execution_count": 60,
   "metadata": {},
   "outputs": [],
   "source": [
    "dataset = pd.read_csv('dataset.csv', header = None)"
   ]
  },
  {
   "cell_type": "code",
   "execution_count": 61,
   "metadata": {},
   "outputs": [
    {
     "name": "stdout",
     "output_type": "stream",
     "text": [
      "(100, 4)\n"
     ]
    }
   ],
   "source": [
    "print(dataset.shape)"
   ]
  },
  {
   "cell_type": "code",
   "execution_count": 62,
   "metadata": {},
   "outputs": [
    {
     "name": "stdout",
     "output_type": "stream",
     "text": [
      "   0    1    2  3\n",
      "0  0  5.1  3.5  1\n",
      "1  1  4.9  3.0  1\n",
      "2  2  4.7  3.2  1\n",
      "3  3  4.6  3.1  1\n",
      "4  4  5.0  3.6  1\n"
     ]
    }
   ],
   "source": [
    "print(dataset.head())"
   ]
  },
  {
   "cell_type": "code",
   "execution_count": 63,
   "metadata": {},
   "outputs": [],
   "source": [
    "#divide the dataset into X and Y\n",
    "    \n",
    "theta = [ 0.0, 0.0, 0.0 ]\n",
    "alpha = 0.5\n",
    "\n",
    "X1 = dataset.iloc[:,1].values\n",
    "X2 = dataset.iloc[:,2].values\n",
    "Y = dataset.iloc[:,3].values\n",
    "\n",
    "m = len(Y)"
   ]
  },
  {
   "cell_type": "code",
   "execution_count": 64,
   "metadata": {},
   "outputs": [],
   "source": [
    "#normalizing the dataset\n",
    "\n",
    "X1_norm = (X1 - np.mean(X1)) / (np.max(X1) - np.min(X1))\n",
    "X2_norm = (X2 - np.mean(X2)) / (np.max(X2) - np.min(X2))\n"
   ]
  },
  {
   "cell_type": "code",
   "execution_count": 65,
   "metadata": {},
   "outputs": [
    {
     "data": {
      "image/png": "[encoded data removed]",
      "text/plain": [
       "<matplotlib.figure.Figure at 0xed30950>"
      ]
     },
     "metadata": {},
     "output_type": "display_data"
    }
   ],
   "source": [
    "#visualizing the dataset\n",
    "\n",
    "X_pos = []\n",
    "Y_pos = []\n",
    "\n",
    "X_neg = []\n",
    "Y_neg = []\n",
    "\n",
    "for i in range(len(X1_norm)):\n",
    "    if(Y[i] == 1):\n",
    "        X_pos.append(X1_norm[i])\n",
    "        Y_pos.append(X2_norm[i])\n",
    "    else:\n",
    "        X_neg.append(X1_norm[i])\n",
    "        Y_neg.append(X2_norm[i])\n",
    "\n",
    "plt.plot(X_pos, Y_pos, 'bo')\n",
    "plt.plot(X_neg, Y_neg, 'ro')\n",
    "plt.show()"
   ]
  },
  {
   "cell_type": "code",
   "execution_count": 66,
   "metadata": {},
   "outputs": [
    {
     "name": "stdout",
     "output_type": "stream",
     "text": [
      "[[ 0.5       ]\n",
      " [-1.30501711]\n",
      " [ 1.42385254]]\n"
     ]
    }
   ],
   "source": [
    "#running Gradient Descent using Normal Equation method (Bullshit! Doesn't work this way)\n",
    "\n",
    "Ypad = np.c_[ Y ];\n",
    "\n",
    "X = np.c_[ np.ones(100), X1_norm, X2_norm ];\n",
    "Xt = np.transpose(X)\n",
    "\n",
    "XtX = np.dot(Xt, X)\n",
    "\n",
    "XtX_inv = np.linalg.inv(XtX)\n",
    "\n",
    "theta = np.dot(np.dot(XtX_inv, Xt), Ypad)\n",
    "print(theta)"
   ]
  },
  {
   "cell_type": "code",
   "execution_count": 67,
   "metadata": {},
   "outputs": [],
   "source": [
    "#function for obtaining Cost Function\n",
    "\n",
    "def cost(X1, X2, Y, m, theta):\n",
    "    squared_sum=0.0\n",
    "    for i in range(m):\n",
    "        hypothesis = 1/(1 + np.exp(-(theta[0] + theta[1]*X1[i] + theta[2]*X2[i])))\n",
    "        squared_sum = squared_sum + (-Y[i]*np.log(hypothesis) - (1 - Y[i])*(np.log(1 - hypothesis)));\n",
    "    cost = (-1.0/(m))*squared_sum;\n",
    "    return cost;\n"
   ]
  },
  {
   "cell_type": "code",
   "execution_count": 68,
   "metadata": {},
   "outputs": [],
   "source": [
    "#function for summing-up them hypotheses\n",
    "\n",
    "def hypothesis_summation(X1, X2, Y, term, m):\n",
    "    sum = 0\n",
    "    for i in range(m):\n",
    "        if(term == 1):\n",
    "            sum = sum + ((1/(1 + np.exp(-(theta[0] + theta[1]*X1[i] + theta[2]*X2[i]))) - Y[i]))\n",
    "        elif(term == 2):\n",
    "            sum = sum + ((1/(1 + np.exp(-(theta[0] + theta[1]*X1[i] + theta[2]*X2[i]))) - Y[i]))*X1[i]\n",
    "        else:\n",
    "            sum = sum + ((1/(1 + np.exp(-(theta[0] + theta[1]*X1[i] + theta[2]*X2[i]))) - Y[i]))*X2[i]\n",
    "    return sum;"
   ]
  },
  {
   "cell_type": "code",
   "execution_count": 69,
   "metadata": {},
   "outputs": [
    {
     "name": "stdout",
     "output_type": "stream",
     "text": [
      "[[-5.35080613]\n",
      " [-4.60300604]\n",
      " [ 4.02589441]]\n",
      "1\n"
     ]
    }
   ],
   "source": [
    "#running Gradient Descent\n",
    "\n",
    "checkpoint = 0\n",
    "\n",
    "while(True):\n",
    "    temp0 = theta[0] - alpha*hypothesis_summation(X1_norm, X2_norm, Y, 1, m);\n",
    "    temp1 = theta[1] - alpha*hypothesis_summation(X1_norm, X2_norm, Y, 2, m);\n",
    "    temp2 = theta[2] - alpha*hypothesis_summation(X1_norm, X2_norm, Y, 3, m);\n",
    "    theta[0] = temp0;\n",
    "    theta[1] = temp1;\n",
    "    theta[2] = temp2;\n",
    "    checkpoint = checkpoint + 1\n",
    "    if(checkpoint%100000 == 0):\n",
    "        print(\"Reached Checkpoint \", checkpoint/100000)\n",
    "        print(theta)\n",
    "    if(cost(X1, X2, Y, m, theta)<0.00001):\n",
    "        break;\n",
    "print(theta);\n",
    "print(checkpoint)"
   ]
  },
  {
   "cell_type": "code",
   "execution_count": null,
   "metadata": {},
   "outputs": [],
   "source": []
  }
 ],
 "metadata": {
  "kernelspec": {
   "display_name": "Python 3",
   "language": "python",
   "name": "python3"
  },
  "language_info": {
   "codemirror_mode": {
    "name": "ipython",
    "version": 3
   },
   "file_extension": ".py",
   "mimetype": "text/x-python",
   "name": "python",
   "nbconvert_exporter": "python",
   "pygments_lexer": "ipython3",
   "version": "3.6.4"
  }
 },
 "nbformat": 4,
 "nbformat_minor": 2
}
